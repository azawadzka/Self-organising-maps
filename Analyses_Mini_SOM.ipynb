{
  "nbformat": 4,
  "nbformat_minor": 0,
  "metadata": {
    "colab": {
      "name": "Sistemas Inteligentes - SOM.ipynb",
      "provenance": [],
      "collapsed_sections": [],
      "machine_shape": "hm"
    },
    "kernelspec": {
      "name": "python3",
      "display_name": "Python 3"
    },
    "accelerator": "GPU"
  },
  "cells": [
    {
      "cell_type": "code",
      "metadata": {
        "id": "HlAWJKHup-dV",
        "colab_type": "code",
        "colab": {
          "base_uri": "https://localhost:8080/",
          "height": 102
        },
        "outputId": "8ee1517c-abd8-4fe0-bee1-4d13c78f283f"
      },
      "source": [
        "import numpy as np\n",
        "%tensorflow_version 1.4\n",
        "import tensorflow as tf\n",
        "import pandas as pd\n",
        "%matplotlib inline"
      ],
      "execution_count": 1,
      "outputs": [
        {
          "output_type": "stream",
          "text": [
            "`%tensorflow_version` only switches the major version: 1.x or 2.x.\n",
            "You set: `1.4`. This will be interpreted as: `1.x`.\n",
            "\n",
            "\n",
            "TensorFlow 1.x selected.\n"
          ],
          "name": "stdout"
        }
      ]
    },
    {
      "cell_type": "code",
      "metadata": {
        "id": "KuqzHCKXRuPO",
        "colab_type": "code",
        "colab": {
          "base_uri": "https://localhost:8080/",
          "height": 34
        },
        "outputId": "22af2653-3300-4c3c-e253-032ffedd4754"
      },
      "source": [
        "from google.colab import drive\n",
        "drive.mount('/gdrive')"
      ],
      "execution_count": 2,
      "outputs": [
        {
          "output_type": "stream",
          "text": [
            "Drive already mounted at /gdrive; to attempt to forcibly remount, call drive.mount(\"/gdrive\", force_remount=True).\n"
          ],
          "name": "stdout"
        }
      ]
    },
    {
      "cell_type": "code",
      "metadata": {
        "id": "QayucF6hs5_x",
        "colab_type": "code",
        "colab": {}
      },
      "source": [
        "file_path = '/gdrive/My Drive/20160101_Yellow_Taxi_Trip_Data.csv'"
      ],
      "execution_count": 3,
      "outputs": []
    },
    {
      "cell_type": "code",
      "metadata": {
        "id": "xXpTWdkNvT6u",
        "colab_type": "code",
        "colab": {
          "base_uri": "https://localhost:8080/",
          "height": 428
        },
        "outputId": "e0f84ca8-574c-4c91-b344-bd87b83952da"
      },
      "source": [
        "df = pd.read_csv(file_path)\n",
        "df.head()"
      ],
      "execution_count": 4,
      "outputs": [
        {
          "output_type": "execute_result",
          "data": {
            "text/html": [
              "<div>\n",
              "<style scoped>\n",
              "    .dataframe tbody tr th:only-of-type {\n",
              "        vertical-align: middle;\n",
              "    }\n",
              "\n",
              "    .dataframe tbody tr th {\n",
              "        vertical-align: top;\n",
              "    }\n",
              "\n",
              "    .dataframe thead th {\n",
              "        text-align: right;\n",
              "    }\n",
              "</style>\n",
              "<table border=\"1\" class=\"dataframe\">\n",
              "  <thead>\n",
              "    <tr style=\"text-align: right;\">\n",
              "      <th></th>\n",
              "      <th>2</th>\n",
              "      <th>01/01/2016 12:00:00 AM</th>\n",
              "      <th>01/01/2016 12:18:30 AM</th>\n",
              "      <th>2.1</th>\n",
              "      <th>5.52</th>\n",
              "      <th>-73.980117797851563</th>\n",
              "      <th>40.743049621582031</th>\n",
              "      <th>1</th>\n",
              "      <th>N</th>\n",
              "      <th>-73.913490295410156</th>\n",
              "      <th>40.763141632080078</th>\n",
              "      <th>2.2</th>\n",
              "      <th>19</th>\n",
              "      <th>0.5</th>\n",
              "      <th>0.5.1</th>\n",
              "      <th>0</th>\n",
              "      <th>0.1</th>\n",
              "      <th>0.3</th>\n",
              "      <th>20.3</th>\n",
              "      <th>Unnamed: 19</th>\n",
              "      <th>Unnamed: 20</th>\n",
              "    </tr>\n",
              "  </thead>\n",
              "  <tbody>\n",
              "    <tr>\n",
              "      <th>0</th>\n",
              "      <td>2</td>\n",
              "      <td>01/01/2016 12:00:00 AM</td>\n",
              "      <td>01/01/2016 12:00:00 AM</td>\n",
              "      <td>3</td>\n",
              "      <td>1.76</td>\n",
              "      <td>-73.960625</td>\n",
              "      <td>40.781330</td>\n",
              "      <td>1</td>\n",
              "      <td>N</td>\n",
              "      <td>-73.977264</td>\n",
              "      <td>40.758514</td>\n",
              "      <td>2</td>\n",
              "      <td>8.0</td>\n",
              "      <td>0.0</td>\n",
              "      <td>0.5</td>\n",
              "      <td>0.0</td>\n",
              "      <td>0.0</td>\n",
              "      <td>0.3</td>\n",
              "      <td>8.8</td>\n",
              "      <td>NaN</td>\n",
              "      <td>NaN</td>\n",
              "    </tr>\n",
              "    <tr>\n",
              "      <th>1</th>\n",
              "      <td>2</td>\n",
              "      <td>01/01/2016 12:00:00 AM</td>\n",
              "      <td>01/01/2016 12:00:00 AM</td>\n",
              "      <td>1</td>\n",
              "      <td>10.54</td>\n",
              "      <td>-73.984550</td>\n",
              "      <td>40.679565</td>\n",
              "      <td>1</td>\n",
              "      <td>N</td>\n",
              "      <td>-73.950272</td>\n",
              "      <td>40.788925</td>\n",
              "      <td>1</td>\n",
              "      <td>33.0</td>\n",
              "      <td>0.5</td>\n",
              "      <td>0.5</td>\n",
              "      <td>0.0</td>\n",
              "      <td>0.0</td>\n",
              "      <td>0.3</td>\n",
              "      <td>34.3</td>\n",
              "      <td>NaN</td>\n",
              "      <td>NaN</td>\n",
              "    </tr>\n",
              "    <tr>\n",
              "      <th>2</th>\n",
              "      <td>2</td>\n",
              "      <td>01/01/2016 12:00:00 AM</td>\n",
              "      <td>01/01/2016 12:26:45 AM</td>\n",
              "      <td>2</td>\n",
              "      <td>7.45</td>\n",
              "      <td>-73.994057</td>\n",
              "      <td>40.719990</td>\n",
              "      <td>1</td>\n",
              "      <td>N</td>\n",
              "      <td>-73.966362</td>\n",
              "      <td>40.789871</td>\n",
              "      <td>2</td>\n",
              "      <td>26.0</td>\n",
              "      <td>0.5</td>\n",
              "      <td>0.5</td>\n",
              "      <td>0.0</td>\n",
              "      <td>0.0</td>\n",
              "      <td>0.3</td>\n",
              "      <td>27.3</td>\n",
              "      <td>NaN</td>\n",
              "      <td>NaN</td>\n",
              "    </tr>\n",
              "    <tr>\n",
              "      <th>3</th>\n",
              "      <td>2</td>\n",
              "      <td>01/01/2016 12:00:00 AM</td>\n",
              "      <td>01/01/2016 12:00:00 AM</td>\n",
              "      <td>1</td>\n",
              "      <td>4.75</td>\n",
              "      <td>-73.993469</td>\n",
              "      <td>40.718990</td>\n",
              "      <td>1</td>\n",
              "      <td>N</td>\n",
              "      <td>-73.962242</td>\n",
              "      <td>40.657333</td>\n",
              "      <td>2</td>\n",
              "      <td>16.5</td>\n",
              "      <td>0.0</td>\n",
              "      <td>0.5</td>\n",
              "      <td>0.0</td>\n",
              "      <td>0.0</td>\n",
              "      <td>0.3</td>\n",
              "      <td>17.3</td>\n",
              "      <td>NaN</td>\n",
              "      <td>NaN</td>\n",
              "    </tr>\n",
              "    <tr>\n",
              "      <th>4</th>\n",
              "      <td>2</td>\n",
              "      <td>01/01/2016 12:00:00 AM</td>\n",
              "      <td>01/01/2016 12:00:00 AM</td>\n",
              "      <td>5</td>\n",
              "      <td>4.90</td>\n",
              "      <td>-73.980782</td>\n",
              "      <td>40.729912</td>\n",
              "      <td>1</td>\n",
              "      <td>N</td>\n",
              "      <td>-73.944473</td>\n",
              "      <td>40.716679</td>\n",
              "      <td>1</td>\n",
              "      <td>18.0</td>\n",
              "      <td>0.5</td>\n",
              "      <td>0.5</td>\n",
              "      <td>0.0</td>\n",
              "      <td>0.0</td>\n",
              "      <td>0.3</td>\n",
              "      <td>19.3</td>\n",
              "      <td>NaN</td>\n",
              "      <td>NaN</td>\n",
              "    </tr>\n",
              "  </tbody>\n",
              "</table>\n",
              "</div>"
            ],
            "text/plain": [
              "   2  01/01/2016 12:00:00 AM  ... Unnamed: 19  Unnamed: 20\n",
              "0  2  01/01/2016 12:00:00 AM  ...         NaN          NaN\n",
              "1  2  01/01/2016 12:00:00 AM  ...         NaN          NaN\n",
              "2  2  01/01/2016 12:00:00 AM  ...         NaN          NaN\n",
              "3  2  01/01/2016 12:00:00 AM  ...         NaN          NaN\n",
              "4  2  01/01/2016 12:00:00 AM  ...         NaN          NaN\n",
              "\n",
              "[5 rows x 21 columns]"
            ]
          },
          "metadata": {
            "tags": []
          },
          "execution_count": 4
        }
      ]
    },
    {
      "cell_type": "markdown",
      "metadata": {
        "id": "VHkhkdMjbVDT",
        "colab_type": "text"
      },
      "source": [
        "####Data preprocessing:\n",
        "- The last 2 columns that were empty were disposed of;\n",
        "- Titles indicated in the task explanation were given to the columns;\n",
        "- Nominal values of the column 'store_and_fwd_flag' were changed to a numeric code;\n",
        "- From the dates in the columns 'tpep_pickup_datetime' and 'tpep_dropoff_datetime' only the hour in the 24-h format and the minute were extracted. The day, month and year data was the same for all entries and therefore irrelevant;\n",
        "- All int values were cast to float64 values. All values share float64 type so the dataframe is convertable to tensorflow dataset;\n",
        "- The data was normailzed to provide optimal steps while training for each feature."
      ]
    },
    {
      "cell_type": "code",
      "metadata": {
        "id": "yQ1L6ymOS6nO",
        "colab_type": "code",
        "colab": {
          "base_uri": "https://localhost:8080/",
          "height": 221
        },
        "outputId": "40f29d76-443f-4146-f85d-155ce912d183"
      },
      "source": [
        "#print(df.columns.size)\n",
        "df.pop(df.columns[20])\n",
        "df.pop(df.columns[19])"
      ],
      "execution_count": 5,
      "outputs": [
        {
          "output_type": "execute_result",
          "data": {
            "text/plain": [
              "0        NaN\n",
              "1        NaN\n",
              "2        NaN\n",
              "3        NaN\n",
              "4        NaN\n",
              "          ..\n",
              "345031   NaN\n",
              "345032   NaN\n",
              "345033   NaN\n",
              "345034   NaN\n",
              "345035   NaN\n",
              "Name: Unnamed: 19, Length: 345036, dtype: float64"
            ]
          },
          "metadata": {
            "tags": []
          },
          "execution_count": 5
        }
      ]
    },
    {
      "cell_type": "code",
      "metadata": {
        "id": "FJ6bQjEeWBMh",
        "colab_type": "code",
        "colab": {
          "base_uri": "https://localhost:8080/",
          "height": 224
        },
        "outputId": "848f1964-8a85-466f-f790-2a2bd9d770a0"
      },
      "source": [
        "df.columns = ['vendorid', 'tpep_pickup_datetime', 'tpep_dropoff_datetime',\n",
        "       'passenger_count', 'trip_distance', 'pickup_longitude', 'pickup_latitude', 'ratecodeid', 'store_and_fwd_flag',\n",
        "       'dropoff_longitude', 'dropoff_latitude', 'payment_type', 'fare_amount', 'extra',\n",
        "       'mta_tax', 'tip_amount', 'tolls_amount', 'improvement_surcharge',\n",
        "       'total_amount']\n",
        "df.head()"
      ],
      "execution_count": 6,
      "outputs": [
        {
          "output_type": "execute_result",
          "data": {
            "text/html": [
              "<div>\n",
              "<style scoped>\n",
              "    .dataframe tbody tr th:only-of-type {\n",
              "        vertical-align: middle;\n",
              "    }\n",
              "\n",
              "    .dataframe tbody tr th {\n",
              "        vertical-align: top;\n",
              "    }\n",
              "\n",
              "    .dataframe thead th {\n",
              "        text-align: right;\n",
              "    }\n",
              "</style>\n",
              "<table border=\"1\" class=\"dataframe\">\n",
              "  <thead>\n",
              "    <tr style=\"text-align: right;\">\n",
              "      <th></th>\n",
              "      <th>vendorid</th>\n",
              "      <th>tpep_pickup_datetime</th>\n",
              "      <th>tpep_dropoff_datetime</th>\n",
              "      <th>passenger_count</th>\n",
              "      <th>trip_distance</th>\n",
              "      <th>pickup_longitude</th>\n",
              "      <th>pickup_latitude</th>\n",
              "      <th>ratecodeid</th>\n",
              "      <th>store_and_fwd_flag</th>\n",
              "      <th>dropoff_longitude</th>\n",
              "      <th>dropoff_latitude</th>\n",
              "      <th>payment_type</th>\n",
              "      <th>fare_amount</th>\n",
              "      <th>extra</th>\n",
              "      <th>mta_tax</th>\n",
              "      <th>tip_amount</th>\n",
              "      <th>tolls_amount</th>\n",
              "      <th>improvement_surcharge</th>\n",
              "      <th>total_amount</th>\n",
              "    </tr>\n",
              "  </thead>\n",
              "  <tbody>\n",
              "    <tr>\n",
              "      <th>0</th>\n",
              "      <td>2</td>\n",
              "      <td>01/01/2016 12:00:00 AM</td>\n",
              "      <td>01/01/2016 12:00:00 AM</td>\n",
              "      <td>3</td>\n",
              "      <td>1.76</td>\n",
              "      <td>-73.960625</td>\n",
              "      <td>40.781330</td>\n",
              "      <td>1</td>\n",
              "      <td>N</td>\n",
              "      <td>-73.977264</td>\n",
              "      <td>40.758514</td>\n",
              "      <td>2</td>\n",
              "      <td>8.0</td>\n",
              "      <td>0.0</td>\n",
              "      <td>0.5</td>\n",
              "      <td>0.0</td>\n",
              "      <td>0.0</td>\n",
              "      <td>0.3</td>\n",
              "      <td>8.8</td>\n",
              "    </tr>\n",
              "    <tr>\n",
              "      <th>1</th>\n",
              "      <td>2</td>\n",
              "      <td>01/01/2016 12:00:00 AM</td>\n",
              "      <td>01/01/2016 12:00:00 AM</td>\n",
              "      <td>1</td>\n",
              "      <td>10.54</td>\n",
              "      <td>-73.984550</td>\n",
              "      <td>40.679565</td>\n",
              "      <td>1</td>\n",
              "      <td>N</td>\n",
              "      <td>-73.950272</td>\n",
              "      <td>40.788925</td>\n",
              "      <td>1</td>\n",
              "      <td>33.0</td>\n",
              "      <td>0.5</td>\n",
              "      <td>0.5</td>\n",
              "      <td>0.0</td>\n",
              "      <td>0.0</td>\n",
              "      <td>0.3</td>\n",
              "      <td>34.3</td>\n",
              "    </tr>\n",
              "    <tr>\n",
              "      <th>2</th>\n",
              "      <td>2</td>\n",
              "      <td>01/01/2016 12:00:00 AM</td>\n",
              "      <td>01/01/2016 12:26:45 AM</td>\n",
              "      <td>2</td>\n",
              "      <td>7.45</td>\n",
              "      <td>-73.994057</td>\n",
              "      <td>40.719990</td>\n",
              "      <td>1</td>\n",
              "      <td>N</td>\n",
              "      <td>-73.966362</td>\n",
              "      <td>40.789871</td>\n",
              "      <td>2</td>\n",
              "      <td>26.0</td>\n",
              "      <td>0.5</td>\n",
              "      <td>0.5</td>\n",
              "      <td>0.0</td>\n",
              "      <td>0.0</td>\n",
              "      <td>0.3</td>\n",
              "      <td>27.3</td>\n",
              "    </tr>\n",
              "    <tr>\n",
              "      <th>3</th>\n",
              "      <td>2</td>\n",
              "      <td>01/01/2016 12:00:00 AM</td>\n",
              "      <td>01/01/2016 12:00:00 AM</td>\n",
              "      <td>1</td>\n",
              "      <td>4.75</td>\n",
              "      <td>-73.993469</td>\n",
              "      <td>40.718990</td>\n",
              "      <td>1</td>\n",
              "      <td>N</td>\n",
              "      <td>-73.962242</td>\n",
              "      <td>40.657333</td>\n",
              "      <td>2</td>\n",
              "      <td>16.5</td>\n",
              "      <td>0.0</td>\n",
              "      <td>0.5</td>\n",
              "      <td>0.0</td>\n",
              "      <td>0.0</td>\n",
              "      <td>0.3</td>\n",
              "      <td>17.3</td>\n",
              "    </tr>\n",
              "    <tr>\n",
              "      <th>4</th>\n",
              "      <td>2</td>\n",
              "      <td>01/01/2016 12:00:00 AM</td>\n",
              "      <td>01/01/2016 12:00:00 AM</td>\n",
              "      <td>5</td>\n",
              "      <td>4.90</td>\n",
              "      <td>-73.980782</td>\n",
              "      <td>40.729912</td>\n",
              "      <td>1</td>\n",
              "      <td>N</td>\n",
              "      <td>-73.944473</td>\n",
              "      <td>40.716679</td>\n",
              "      <td>1</td>\n",
              "      <td>18.0</td>\n",
              "      <td>0.5</td>\n",
              "      <td>0.5</td>\n",
              "      <td>0.0</td>\n",
              "      <td>0.0</td>\n",
              "      <td>0.3</td>\n",
              "      <td>19.3</td>\n",
              "    </tr>\n",
              "  </tbody>\n",
              "</table>\n",
              "</div>"
            ],
            "text/plain": [
              "   vendorid    tpep_pickup_datetime  ... improvement_surcharge  total_amount\n",
              "0         2  01/01/2016 12:00:00 AM  ...                   0.3           8.8\n",
              "1         2  01/01/2016 12:00:00 AM  ...                   0.3          34.3\n",
              "2         2  01/01/2016 12:00:00 AM  ...                   0.3          27.3\n",
              "3         2  01/01/2016 12:00:00 AM  ...                   0.3          17.3\n",
              "4         2  01/01/2016 12:00:00 AM  ...                   0.3          19.3\n",
              "\n",
              "[5 rows x 19 columns]"
            ]
          },
          "metadata": {
            "tags": []
          },
          "execution_count": 6
        }
      ]
    },
    {
      "cell_type": "code",
      "metadata": {
        "id": "ean54yivwo84",
        "colab_type": "code",
        "colab": {}
      },
      "source": [
        "# https://www.tensorflow.org/tutorials/load_data/pandas_dataframe\n",
        "df['store_and_fwd_flag'] = pd.Categorical(df['store_and_fwd_flag'])\n",
        "df['store_and_fwd_flag'] = df.store_and_fwd_flag.cat.codes"
      ],
      "execution_count": 7,
      "outputs": []
    },
    {
      "cell_type": "code",
      "metadata": {
        "id": "AfgLbButvipY",
        "colab_type": "code",
        "colab": {
          "base_uri": "https://localhost:8080/",
          "height": 221
        },
        "outputId": "24a88ab5-0f1b-41b9-a2bb-384cd9547337"
      },
      "source": [
        "# https://docs.python.org/3/library/datetime.html\n",
        "# https://www.dataquest.io/blog/python-datetime-tutorial/\n",
        "# https://www.geeksforgeeks.org/python-pandas-dataframe-insert/\n",
        "# https://pandas.pydata.org/pandas-docs/stable/reference/api/pandas.DataFrame.pop.html\n",
        "from datetime import datetime\n",
        "\n",
        "df['tpep_pickup_datetime'] = pd.to_datetime(df['tpep_pickup_datetime'], format='%d/%m/%Y %I:%M:%S %p')\n",
        "df.insert(2, 'hour_pickup', df['tpep_pickup_datetime'].apply(lambda x: x.hour), True)\n",
        "df.insert(2, 'minute_pickup', df['tpep_pickup_datetime'].apply(lambda x: x.minute), True)\n",
        "df.pop('tpep_pickup_datetime')\n",
        "\n",
        "df['tpep_dropoff_datetime'] = pd.to_datetime(df['tpep_dropoff_datetime'], format='%d/%m/%Y %I:%M:%S %p')\n",
        "df.insert(2, 'hour_dropoff', df['tpep_dropoff_datetime'].apply(lambda x: x.hour), True)\n",
        "df.insert(2, 'minute_dropoff', df['tpep_dropoff_datetime'].apply(lambda x: x.minute), True)\n",
        "df.pop('tpep_dropoff_datetime')"
      ],
      "execution_count": 8,
      "outputs": [
        {
          "output_type": "execute_result",
          "data": {
            "text/plain": [
              "0        2016-01-01 00:00:00\n",
              "1        2016-01-01 00:00:00\n",
              "2        2016-01-01 00:26:45\n",
              "3        2016-01-01 00:00:00\n",
              "4        2016-01-01 00:00:00\n",
              "                 ...        \n",
              "345031   2016-02-01 00:07:17\n",
              "345032   2016-02-01 00:09:55\n",
              "345033   2016-02-01 00:08:37\n",
              "345034   2016-02-01 00:06:22\n",
              "345035   2016-02-01 00:15:01\n",
              "Name: tpep_dropoff_datetime, Length: 345036, dtype: datetime64[ns]"
            ]
          },
          "metadata": {
            "tags": []
          },
          "execution_count": 8
        }
      ]
    },
    {
      "cell_type": "code",
      "metadata": {
        "id": "CjFRxEQ4aEsj",
        "colab_type": "code",
        "colab": {
          "base_uri": "https://localhost:8080/",
          "height": 391
        },
        "outputId": "f7fa7101-80c1-49d9-c196-fcf26ebf6afb"
      },
      "source": [
        "df.dtypes"
      ],
      "execution_count": 9,
      "outputs": [
        {
          "output_type": "execute_result",
          "data": {
            "text/plain": [
              "vendorid                   int64\n",
              "minute_pickup              int64\n",
              "minute_dropoff             int64\n",
              "hour_dropoff               int64\n",
              "hour_pickup                int64\n",
              "passenger_count            int64\n",
              "trip_distance            float64\n",
              "pickup_longitude         float64\n",
              "pickup_latitude          float64\n",
              "ratecodeid                 int64\n",
              "store_and_fwd_flag          int8\n",
              "dropoff_longitude        float64\n",
              "dropoff_latitude         float64\n",
              "payment_type               int64\n",
              "fare_amount              float64\n",
              "extra                    float64\n",
              "mta_tax                  float64\n",
              "tip_amount               float64\n",
              "tolls_amount             float64\n",
              "improvement_surcharge    float64\n",
              "total_amount             float64\n",
              "dtype: object"
            ]
          },
          "metadata": {
            "tags": []
          },
          "execution_count": 9
        }
      ]
    },
    {
      "cell_type": "code",
      "metadata": {
        "id": "cdymbLBsvKuS",
        "colab_type": "code",
        "colab": {
          "base_uri": "https://localhost:8080/",
          "height": 391
        },
        "outputId": "110c9996-30a1-4f11-ce0d-b68a881b5e59"
      },
      "source": [
        "df.vendorid = df.vendorid.astype('float64')\n",
        "df.minute_pickup = df.minute_pickup.astype('float64')\n",
        "df.minute_dropoff = df.minute_dropoff.astype('float64')\n",
        "df.hour_pickup = df.hour_pickup.astype('float64')\n",
        "df.hour_dropoff = df.hour_dropoff.astype('float64')\n",
        "df.passenger_count = df.passenger_count.astype('float64')\n",
        "df.ratecodeid = df.ratecodeid.astype('float64')\n",
        "df.store_and_fwd_flag = df.store_and_fwd_flag.astype('float64')\n",
        "df.payment_type = df.payment_type.astype('float64')\n",
        "df.dtypes"
      ],
      "execution_count": 10,
      "outputs": [
        {
          "output_type": "execute_result",
          "data": {
            "text/plain": [
              "vendorid                 float64\n",
              "minute_pickup            float64\n",
              "minute_dropoff           float64\n",
              "hour_dropoff             float64\n",
              "hour_pickup              float64\n",
              "passenger_count          float64\n",
              "trip_distance            float64\n",
              "pickup_longitude         float64\n",
              "pickup_latitude          float64\n",
              "ratecodeid               float64\n",
              "store_and_fwd_flag       float64\n",
              "dropoff_longitude        float64\n",
              "dropoff_latitude         float64\n",
              "payment_type             float64\n",
              "fare_amount              float64\n",
              "extra                    float64\n",
              "mta_tax                  float64\n",
              "tip_amount               float64\n",
              "tolls_amount             float64\n",
              "improvement_surcharge    float64\n",
              "total_amount             float64\n",
              "dtype: object"
            ]
          },
          "metadata": {
            "tags": []
          },
          "execution_count": 10
        }
      ]
    },
    {
      "cell_type": "code",
      "metadata": {
        "id": "VC-9e0BsfiC_",
        "colab_type": "code",
        "colab": {}
      },
      "source": [
        "# Normalization (0,1)\n",
        "# https://www.kaggle.com/parasjindal96/how-to-normalize-dataframe-pandas\n",
        "df_n=((df-df.min())/(df.max()-df.min()))\n",
        "#df_n.sample(5)"
      ],
      "execution_count": 11,
      "outputs": []
    },
    {
      "cell_type": "code",
      "metadata": {
        "id": "G4hcfzXju8g2",
        "colab_type": "code",
        "colab": {}
      },
      "source": [
        "# https://www.tensorflow.org/api_docs/python/tf/data/Dataset?version=stable\n",
        "#dataset = tf.data.Dataset.from_tensor_slices(df_n)"
      ],
      "execution_count": 12,
      "outputs": []
    },
    {
      "cell_type": "code",
      "metadata": {
        "id": "kAwLFPKhBnbI",
        "colab_type": "code",
        "colab": {
          "base_uri": "https://localhost:8080/",
          "height": 34
        },
        "outputId": "b0a4a9eb-93ac-471a-8fac-ec61d90dc0c0"
      },
      "source": [
        "!pip install minisom\n",
        "from minisom import MiniSom\n",
        "\n",
        "import matplotlib.pyplot as plt\n",
        "import matplotlib.cm as cm\n",
        "import matplotlib.patches as mpatches\n",
        "\n"
      ],
      "execution_count": 13,
      "outputs": [
        {
          "output_type": "stream",
          "text": [
            "Requirement already satisfied: minisom in /usr/local/lib/python3.6/dist-packages (2.2.6)\n"
          ],
          "name": "stdout"
        }
      ]
    },
    {
      "cell_type": "markdown",
      "metadata": {
        "id": "cdUHQqnYz5Lg",
        "colab_type": "text"
      },
      "source": [
        "####Analysis 1/MiniSOM\n",
        "**What are the typical pickup locations in each hour?**\n",
        "\n",
        "pickup_longitude, pickup_latitude are mapped relative to hour_pickup\n",
        "\n",
        "The MiniSOM object was trained on pickup_longitude and pickup_latitude data features (2 columns). Each row was provided with additional hour information. \n",
        "\n",
        "The result of the training (the winner) is displayed separately for each hour. The mapping in a given hour is represented by one color on the graph. \n",
        "\n",
        "One point represents 100 matching examples in the source data. \n",
        "\n",
        "All data was gathered on the 1st of January of 2016 (New Year's day). Due to this circumstance we may expect an extraordinary activity in taxi transportation during the first hours of the day. In the graph a high intensity of rides is observable indeed, however there is no data from other days available to allow a comparison. The origin locations diversity is high.\n",
        "\n",
        "The separate groups on the map in the scope of one color represent typical pickup spots in New York for given hour. Separated groups of points of differet colors may represent a frequent pickup spot that is far from other typical pickup spots, like an airport or a touristic attraction.\n",
        "\n",
        "Visibly different pickup areas are popular during the day and the night."
      ]
    },
    {
      "cell_type": "code",
      "metadata": {
        "id": "AhcCoeeNCf9i",
        "colab_type": "code",
        "colab": {}
      },
      "source": [
        "data = df_n[['pickup_longitude', 'pickup_latitude']].to_numpy()\n",
        "data_label = df.hour_pickup.astype('int8').to_numpy()"
      ],
      "execution_count": 14,
      "outputs": []
    },
    {
      "cell_type": "code",
      "metadata": {
        "id": "HqFTu_mju8lS",
        "colab_type": "code",
        "colab": {
          "base_uri": "https://localhost:8080/",
          "height": 51
        },
        "outputId": "689b3ca7-bf03-4869-8cd1-0e1f9fa6514e"
      },
      "source": [
        "som = MiniSom(20, 20, data[0].shape[0], sigma=2, learning_rate=0.5)\n",
        "som.pca_weights_init(data)\n",
        "som.train_random(data, 10000, verbose=True)"
      ],
      "execution_count": 15,
      "outputs": [
        {
          "output_type": "stream",
          "text": [
            " [ 10000 / 10000 ] 100% - 0:00:00 left \n",
            " quantization error: 4.542075570681185e-05\n"
          ],
          "name": "stdout"
        }
      ]
    },
    {
      "cell_type": "code",
      "metadata": {
        "id": "w4uyM7kiuV_y",
        "colab_type": "code",
        "colab": {}
      },
      "source": [
        "values_map = np.zeros((20, 20, 24))\n",
        "\n",
        "for cnt,xx in enumerate(data):\n",
        "  w = som.winner(xx) # getting the winner\n",
        "  values_map[w[0], w[1], data_label[cnt]] += 1\n",
        "\n",
        "values_map //= 100 # reduces number of points on the graph"
      ],
      "execution_count": 16,
      "outputs": []
    },
    {
      "cell_type": "code",
      "metadata": {
        "id": "KEB0iwSjrMJx",
        "colab_type": "code",
        "colab": {
          "base_uri": "https://localhost:8080/",
          "height": 414
        },
        "outputId": "aed8008f-b619-4e0f-9585-df2782438610"
      },
      "source": [
        "# https://matplotlib.org/tutorials/intermediate/legend_guide.html\n",
        "# https://stackoverflow.com/questions/39500265/manually-add-legend-items-python-matplotlib\n",
        "# https://www.programcreek.com/python/example/90948/matplotlib.cm.rainbow\n",
        "\n",
        "colors = cm.rainbow(np.linspace(0, 1, 24))\n",
        "\n",
        "for i in range(values_map.shape[0]):\n",
        "  for j in range(values_map.shape[1]):\n",
        "    for k in range(values_map.shape[2]):\n",
        "      for nr_points in range(int(values_map[i,j,k])):\n",
        "        plt.scatter(i + np.random.normal(0, 0.3), j + np.random.normal(0, 0.3), color=colors[k], alpha=0.7) #jitter\n",
        "\n",
        "\n",
        "legend = np.empty(24, dtype=mpatches.Patch)\n",
        "for i in range(24):\n",
        "  patch = mpatches.Patch(color=colors[i], label=i)\n",
        "  legend[i] = patch\n",
        "\n",
        "plt.legend(legend, np.arange(24), bbox_to_anchor=(1.20, 1), title='Hour')\n",
        "plt.show()"
      ],
      "execution_count": 17,
      "outputs": [
        {
          "output_type": "display_data",
          "data": {
            "image/png": "[encoded data removed]",
            "text/plain": [
              "<Figure size 432x288 with 1 Axes>"
            ]
          },
          "metadata": {
            "tags": [],
            "needs_background": "light"
          }
        }
      ]
    },
    {
      "cell_type": "markdown",
      "metadata": {
        "id": "vvAmEdwGnB05",
        "colab_type": "text"
      },
      "source": [
        "####Analysis 2/MiniSOM\n",
        "**What are the typical pickup locations for each vendor?**\n"
      ]
    },
    {
      "cell_type": "code",
      "metadata": {
        "id": "1ne6rFycxMdf",
        "colab_type": "code",
        "colab": {
          "base_uri": "https://localhost:8080/",
          "height": 51
        },
        "outputId": "98bd5282-2622-4d7e-822d-ec8a0deb1d90"
      },
      "source": [
        "data = df_n[['pickup_longitude', 'pickup_latitude']].to_numpy()\n",
        "data_label = df.vendorid.astype('int8').to_numpy()\n",
        "\n",
        "som = MiniSom(30, 30, data[0].shape[0], sigma=1, learning_rate=0.5)\n",
        "som.pca_weights_init(data)\n",
        "som.train_random(data, 1000, verbose=True)"
      ],
      "execution_count": 18,
      "outputs": [
        {
          "output_type": "stream",
          "text": [
            " [ 1000 / 1000 ] 100% - 0:00:00 left \n",
            " quantization error: 6.631862982024881e-05\n"
          ],
          "name": "stdout"
        }
      ]
    },
    {
      "cell_type": "code",
      "metadata": {
        "id": "6mYvnpRlyOcl",
        "colab_type": "code",
        "colab": {}
      },
      "source": [
        "values_map = np.zeros((30, 30, 2))\n",
        "\n",
        "for cnt,xx in enumerate(data):\n",
        "  w = som.winner(xx) # getting the winner\n",
        "  values_map[w[0], w[1], data_label[cnt]-1] += 1\n",
        "\n",
        "values_map = values_map // 500"
      ],
      "execution_count": 19,
      "outputs": []
    },
    {
      "cell_type": "code",
      "metadata": {
        "id": "Klu8Nva5zR5r",
        "colab_type": "code",
        "colab": {
          "base_uri": "https://localhost:8080/",
          "height": 265
        },
        "outputId": "fb5767f1-cb2e-46b7-8e67-f4af55525a15"
      },
      "source": [
        "colors = ['r', 'g']\n",
        "\n",
        "for i in range(values_map.shape[0]):\n",
        "  for j in range(values_map.shape[1]):\n",
        "    for k in range(values_map.shape[2]):\n",
        "      for nr_points in range(int(values_map[i,j,k])):\n",
        "        plt.scatter(i + np.random.normal(0, 0.3), j + np.random.normal(0, 0.3), color=colors[k], alpha=0.7) #jitter\n",
        "\n",
        "# legend\n",
        "legend = np.empty(2, dtype=mpatches.Patch)\n",
        "for i in range(2):\n",
        "  patch = mpatches.Patch(color=colors[i], label=i)\n",
        "  legend[i] = patch\n",
        "\n",
        "plt.legend(legend, np.arange(2), bbox_to_anchor=(1.20, 1), title='Company')\n",
        "plt.show()"
      ],
      "execution_count": 20,
      "outputs": [
        {
          "output_type": "display_data",
          "data": {
            "image/png": "[encoded data removed]",
            "text/plain": [
              "<Figure size 432x288 with 1 Axes>"
            ]
          },
          "metadata": {
            "tags": [],
            "needs_background": "light"
          }
        }
      ]
    },
    {
      "cell_type": "markdown",
      "metadata": {
        "id": "qck30flTnJk5",
        "colab_type": "text"
      },
      "source": [
        "####Analysis 3/MiniSOM\n",
        "**What is the division of payment types among otherwise uniform data?**\n",
        "\n",
        "payment type (color) and vendor (marker) \n",
        "trip_distance, ratecodeid, total_amount\n",
        "\n",
        "The color groups indicate two main payment types: 1 (credit card) and 2 (cash). The groups overlap in a certain area but also have separate regions. \n",
        "The configuration may indicate that one of payment types typically gets  smaller payment for a similar service in terms of (trip_distance, ratecodeid, total_amount). It is observable for both verdors. Need for statistical confirmation!\n"
      ]
    },
    {
      "cell_type": "code",
      "metadata": {
        "id": "gDnUxm0n2hGT",
        "colab_type": "code",
        "colab": {
          "base_uri": "https://localhost:8080/",
          "height": 51
        },
        "outputId": "10271640-564b-4455-ac7b-f69bf68e3299"
      },
      "source": [
        "data = df_n[['trip_distance', 'ratecodeid', 'total_amount']].to_numpy()\n",
        "data_label = df.payment_type.astype('int8').to_numpy()\n",
        "data_label_2 = df.vendorid.astype('int8').to_numpy()\n",
        "\n",
        "som = MiniSom(30, 30, data[0].shape[0], sigma=1, learning_rate=0.5)\n",
        "som.pca_weights_init(data)\n",
        "som.train_random(data, 1000, verbose=True)"
      ],
      "execution_count": 21,
      "outputs": [
        {
          "output_type": "stream",
          "text": [
            " [ 1000 / 1000 ] 100% - 0:00:00 left \n",
            " quantization error: 0.0013658691871066627\n"
          ],
          "name": "stdout"
        }
      ]
    },
    {
      "cell_type": "code",
      "metadata": {
        "id": "H4pMp5Uazhkt",
        "colab_type": "code",
        "colab": {}
      },
      "source": [
        "values_map = np.zeros((100, 100, 6, 2))\n",
        "\n",
        "for cnt,xx in enumerate(data):\n",
        "  w = som.winner(xx) # getting the winner\n",
        "  values_map[w[0], w[1], data_label[cnt]-1, data_label_2[cnt]-1] += 1\n",
        "\n",
        "values_map = values_map // 500"
      ],
      "execution_count": 22,
      "outputs": []
    },
    {
      "cell_type": "code",
      "metadata": {
        "id": "vlrCnr2YojuI",
        "colab_type": "code",
        "colab": {
          "base_uri": "https://localhost:8080/",
          "height": 265
        },
        "outputId": "41017cad-2beb-48d5-d493-bcea0d39aabb"
      },
      "source": [
        "colors = ['y','g','b','r','b', 'violet']\n",
        "markers = ['x', 'o']\n",
        "\n",
        "for i in range(values_map.shape[0]):\n",
        "  for j in range(values_map.shape[1]):\n",
        "    for k in range(values_map.shape[2]):\n",
        "      for l in range(values_map.shape[3]):\n",
        "        for nr_points in range(int(values_map[i,j,k,l])):\n",
        "          plt.scatter(i + np.random.normal(0, 0.3), j + np.random.normal(0, 0.3), color=colors[k], marker=markers[l], alpha=0.7) #jitter"
      ],
      "execution_count": 23,
      "outputs": [
        {
          "output_type": "display_data",
          "data": {
            "image/png": "[encoded data removed]",
            "text/plain": [
              "<Figure size 432x288 with 1 Axes>"
            ]
          },
          "metadata": {
            "tags": [],
            "needs_background": "light"
          }
        }
      ]
    },
    {
      "cell_type": "code",
      "metadata": {
        "id": "U8a7zPjIByka",
        "colab_type": "code",
        "colab": {}
      },
      "source": [
        ""
      ],
      "execution_count": 23,
      "outputs": []
    },
    {
      "cell_type": "code",
      "metadata": {
        "id": "URo8yaWmE5an",
        "colab_type": "code",
        "colab": {}
      },
      "source": [
        ""
      ],
      "execution_count": 23,
      "outputs": []
    }
  ]
}